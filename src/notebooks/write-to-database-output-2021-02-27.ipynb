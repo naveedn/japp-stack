{
 "cells": [
  {
   "cell_type": "code",
   "execution_count": 1,
   "metadata": {
    "execution": {
     "iopub.execute_input": "2021-02-27T10:51:22.000492Z",
     "iopub.status.busy": "2021-02-27T10:51:21.999706Z",
     "iopub.status.idle": "2021-02-27T10:51:22.324000Z",
     "shell.execute_reply": "2021-02-27T10:51:22.323482Z"
    }
   },
   "outputs": [],
   "source": [
    "import pandas as pd"
   ]
  },
  {
   "cell_type": "code",
   "execution_count": 2,
   "metadata": {
    "execution": {
     "iopub.execute_input": "2021-02-27T10:51:22.328812Z",
     "iopub.status.busy": "2021-02-27T10:51:22.328313Z",
     "iopub.status.idle": "2021-02-27T10:51:22.535015Z",
     "shell.execute_reply": "2021-02-27T10:51:22.534480Z"
    }
   },
   "outputs": [],
   "source": [
    "import sqlalchemy\n",
    "from sqlalchemy import create_engine\n",
    "import psycopg2"
   ]
  },
  {
   "cell_type": "code",
   "execution_count": 3,
   "metadata": {
    "execution": {
     "iopub.execute_input": "2021-02-27T10:51:22.544565Z",
     "iopub.status.busy": "2021-02-27T10:51:22.543773Z",
     "iopub.status.idle": "2021-02-27T10:51:22.547602Z",
     "shell.execute_reply": "2021-02-27T10:51:22.547011Z"
    }
   },
   "outputs": [
    {
     "data": {
      "text/plain": [
       "'1.3.23'"
      ]
     },
     "execution_count": 1,
     "metadata": {},
     "output_type": "execute_result"
    }
   ],
   "source": [
    "sqlalchemy.__version__"
   ]
  },
  {
   "cell_type": "code",
   "execution_count": 4,
   "metadata": {
    "execution": {
     "iopub.execute_input": "2021-02-27T10:51:22.551935Z",
     "iopub.status.busy": "2021-02-27T10:51:22.551314Z",
     "iopub.status.idle": "2021-02-27T10:51:22.555679Z",
     "shell.execute_reply": "2021-02-27T10:51:22.555167Z"
    }
   },
   "outputs": [
    {
     "data": {
      "text/plain": [
       "<module 'psycopg2' from '/opt/conda/lib/python3.8/site-packages/psycopg2/__init__.py'>"
      ]
     },
     "execution_count": 1,
     "metadata": {},
     "output_type": "execute_result"
    }
   ],
   "source": [
    "psycopg2"
   ]
  },
  {
   "cell_type": "code",
   "execution_count": 5,
   "metadata": {
    "execution": {
     "iopub.execute_input": "2021-02-27T10:51:22.560242Z",
     "iopub.status.busy": "2021-02-27T10:51:22.559713Z",
     "iopub.status.idle": "2021-02-27T10:51:22.582333Z",
     "shell.execute_reply": "2021-02-27T10:51:22.581691Z"
    }
   },
   "outputs": [],
   "source": [
    "engine = create_engine('postgres://postgres:postgres@db:5432')"
   ]
  },
  {
   "cell_type": "code",
   "execution_count": 6,
   "metadata": {
    "execution": {
     "iopub.execute_input": "2021-02-27T10:51:22.586529Z",
     "iopub.status.busy": "2021-02-27T10:51:22.585843Z",
     "iopub.status.idle": "2021-02-27T10:51:22.589308Z",
     "shell.execute_reply": "2021-02-27T10:51:22.588725Z"
    }
   },
   "outputs": [
    {
     "name": "stdout",
     "output_type": "stream",
     "text": [
      "hello world\n"
     ]
    }
   ],
   "source": [
    "print('hello world')"
   ]
  },
  {
   "cell_type": "code",
   "execution_count": 7,
   "metadata": {
    "execution": {
     "iopub.execute_input": "2021-02-27T10:51:22.594465Z",
     "iopub.status.busy": "2021-02-27T10:51:22.593753Z",
     "iopub.status.idle": "2021-02-27T10:51:22.626948Z",
     "shell.execute_reply": "2021-02-27T10:51:22.627505Z"
    }
   },
   "outputs": [
    {
     "name": "stdout",
     "output_type": "stream",
     "text": [
      "(1, 'blah')\n",
      "(1, 'blah')\n"
     ]
    }
   ],
   "source": [
    "with engine.connect() as con:\n",
    "    con.execute(\"CREATE TABLE IF NOT EXISTS book (id INT, name VARCHAR(40));\")\n",
    "    con.execute(\"INSERT INTO book VALUES (1, 'blah');\")\n",
    "    rs = con.execute('SELECT * FROM book')\n",
    "\n",
    "    for row in rs:\n",
    "        print(row)"
   ]
  },
  {
   "cell_type": "code",
   "execution_count": null,
   "metadata": {},
   "outputs": [],
   "source": []
  }
 ],
 "metadata": {
  "kernelspec": {
   "display_name": "Python 3",
   "language": "python",
   "name": "python3"
  },
  "language_info": {
   "codemirror_mode": {
    "name": "ipython",
    "version": 3
   },
   "file_extension": ".py",
   "mimetype": "text/x-python",
   "name": "python",
   "nbconvert_exporter": "python",
   "pygments_lexer": "ipython3",
   "version": "3.8.6"
  }
 },
 "nbformat": 4,
 "nbformat_minor": 4
}
